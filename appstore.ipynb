{
 "cells": [
  {
   "cell_type": "markdown",
   "metadata": {},
   "source": [
    "# App popularity analysis by genre\n",
    "\n",
    "The goal of the company is to determine which types of mobile applications tend to attract larger user bases. Through an analysis of iOS application data, we can identify total downloads of individual applications as sorted by primary genre as a means of determining those applications' popularity. This should allow us to develop a conclusion about the specific types of applications that tend to draw the most users, and thus, to determine the genre of applications we should focus on developing.\n"
   ]
  },
  {
   "cell_type": "code",
   "execution_count": 1,
   "metadata": {},
   "outputs": [
    {
     "name": "stdout",
     "output_type": "stream",
     "text": [
      "['id', 'track_name', 'size_bytes', 'currency', 'price', 'rating_count_tot', 'rating_count_ver', 'user_rating', 'user_rating_ver', 'ver', 'cont_rating', 'prime_genre', 'sup_devices.num', 'ipadSc_urls.num', 'lang.num', 'vpp_lic']\n"
     ]
    }
   ],
   "source": [
    "from csv import reader\n",
    "opened_ios = open('AppleStore.csv')\n",
    "read_ios = reader(opened_ios)\n",
    "ios_data = list(read_ios)\n",
    "ios_header = ios_data[0]\n",
    "ios_data = ios_data[1:]\n",
    "\n",
    "opened_play = open ('googleplaystore.csv')\n",
    "read_play = reader(opened_play)\n",
    "play_data = list(read_play)\n",
    "print(ios_header)"
   ]
  },
  {
   "cell_type": "code",
   "execution_count": 2,
   "metadata": {},
   "outputs": [
    {
     "name": "stdout",
     "output_type": "stream",
     "text": [
      "['284882215', 'Facebook', '389879808', 'USD', '0.0', '2974676', '212', '3.5', '3.5', '95.0', '4+', 'Social Networking', '37', '1', '29', '1']\n",
      "\n",
      "\n",
      "['389801252', 'Instagram', '113954816', 'USD', '0.0', '2161558', '1289', '4.5', '4.0', '10.23', '12+', 'Photo & Video', '37', '0', '29', '1']\n",
      "\n",
      "\n",
      "Number of rows: 7197\n",
      "Number of columns: 16\n",
      "\n",
      "\n",
      "['App', 'Category', 'Rating', 'Reviews', 'Size', 'Installs', 'Type', 'Price', 'Content Rating', 'Genres', 'Last Updated', 'Current Ver', 'Android Ver']\n",
      "\n",
      "\n",
      "['Photo Editor & Candy Camera & Grid & ScrapBook', 'ART_AND_DESIGN', '4.1', '159', '19M', '10,000+', 'Free', '0', 'Everyone', 'Art & Design', 'January 7, 2018', '1.0.0', '4.0.3 and up']\n",
      "\n",
      "\n",
      "Number of rows: 10842\n",
      "Number of columns: 13\n"
     ]
    }
   ],
   "source": [
    "def explore_dataset(dataset, start, end, rows_and_columns = False):\n",
    "    dataset_slice = dataset[start:end]\n",
    "    for row in dataset_slice:\n",
    "        print(row)\n",
    "        print('\\n')\n",
    "        \n",
    "    if rows_and_columns:\n",
    "        print('Number of rows:', len(dataset))\n",
    "        print('Number of columns:', len(dataset[0]))\n",
    "explore_dataset(ios_data, 0, 2, True)\n",
    "print ('\\n')\n",
    "explore_dataset(play_data, 0, 2, True) "
   ]
  },
  {
   "cell_type": "markdown",
   "metadata": {},
   "source": [
    "The first row of information provides the titles of each column in each dataset, and the following data can be included to help us draw our conclusion:\n",
    "*for iOS:*\n",
    "\n",
    "-track_name\n",
    "\n",
    "-price\n",
    "\n",
    "-rating_count_tot\n",
    "\n",
    "-user_rating\n",
    "\n",
    "-prime_genre\n",
    "\n",
    "*for Android:*\n",
    "\n",
    "-App\n",
    "\n",
    "-Category\n",
    "\n",
    "-Rating\n",
    "\n",
    "-Installs\n",
    "\n",
    "-Type\n",
    "\n",
    "This will help us to identify trends in not only the size of an app's user base, but its popularity among users over the app's lifetime. Further detail about each column can be found [here(ios)](https://www.kaggle.com/ramamet4/app-store-apple-data-set-10k-apps) and [here(Android)](https://www.kaggle.com/lava18/google-play-store-apps?select=googleplaystore.csv)"
   ]
  },
  {
   "cell_type": "code",
   "execution_count": 3,
   "metadata": {},
   "outputs": [
    {
     "name": "stdout",
     "output_type": "stream",
     "text": [
      "['Life Made WI-Fi Touchscreen Photo Frame', '1.9', '19', '3.0M', '1,000+', 'Free', '0', 'Everyone', '', 'February 11, 2018', '1.0.19', '4.0 and up']\n"
     ]
    }
   ],
   "source": [
    "print (play_data[10473])"
   ]
  },
  {
   "cell_type": "code",
   "execution_count": 4,
   "metadata": {},
   "outputs": [],
   "source": [
    "del play_data[10473] #Has been run to delete error in ' Life Made WI-Fi Touchscreen Photo Frame'"
   ]
  },
  {
   "cell_type": "markdown",
   "metadata": {},
   "source": [
    "### Identifying apps with multiple entries\n",
    "As we explore out application data, we will find that a number of applications are repeated throughout our datasets. Here are some examples of duplicate entries found in the Google Play store dataset:"
   ]
  },
  {
   "cell_type": "code",
   "execution_count": 5,
   "metadata": {},
   "outputs": [
    {
     "name": "stdout",
     "output_type": "stream",
     "text": [
      "Number of Duplicate Apps: 1181\n",
      "\n",
      "\n",
      "Examples of Duplicate Apps: ['Quick PDF Scanner + OCR FREE', 'Box', 'Google My Business', 'ZOOM Cloud Meetings', 'join.me - Simple Meetings', 'Box', 'Zenefits', 'Google Ads', 'Google My Business', 'Slack', 'FreshBooks Classic', 'Insightly CRM', 'QuickBooks Accounting: Invoicing & Expenses', 'HipChat - Chat Built for Teams', 'Xero Accounting Software']\n"
     ]
    }
   ],
   "source": [
    "duplicate_apps = []\n",
    "unique_apps = []\n",
    "\n",
    "for row in play_data:\n",
    "    title = row[0]\n",
    "    if title in unique_apps:\n",
    "        duplicate_apps.append(title)\n",
    "    else:\n",
    "        unique_apps.append(title)\n",
    "print ('Number of Duplicate Apps:',len (duplicate_apps))\n",
    "print ('\\n')\n",
    "print ('Examples of Duplicate Apps:', duplicate_apps[0:15])"
   ]
  },
  {
   "cell_type": "markdown",
   "metadata": {},
   "source": [
    "*This data will be cleaned systematically by identifying the most up-to-date entry for each duplicate entry and removing the rest from the dataset. We will identify the most recent entries by comparing the total reviews counts for each application, as the highest total reviews for each set of duplicates will be the most recent.*"
   ]
  },
  {
   "cell_type": "code",
   "execution_count": 6,
   "metadata": {},
   "outputs": [
    {
     "name": "stdout",
     "output_type": "stream",
     "text": [
      "Expected Length: 9660\n"
     ]
    }
   ],
   "source": [
    "print('Expected Length:',len(play_data)-1181)"
   ]
  },
  {
   "cell_type": "code",
   "execution_count": 7,
   "metadata": {},
   "outputs": [
    {
     "name": "stdout",
     "output_type": "stream",
     "text": [
      "['Slack', 'BUSINESS', '4.4', '51507', 'Varies with device', '5,000,000+', 'Free', '0', 'Everyone', 'Business', 'August 2, 2018', 'Varies with device', 'Varies with device']\n",
      "['Slack', 'BUSINESS', '4.4', '51507', 'Varies with device', '5,000,000+', 'Free', '0', 'Everyone', 'Business', 'August 2, 2018', 'Varies with device', 'Varies with device']\n",
      "['Slack', 'BUSINESS', '4.4', '51510', 'Varies with device', '5,000,000+', 'Free', '0', 'Everyone', 'Business', 'August 2, 2018', 'Varies with device', 'Varies with device']\n"
     ]
    }
   ],
   "source": [
    "for app in play_data:\n",
    "    title = app[0]\n",
    "    if title == 'Slack':\n",
    "        print(app)"
   ]
  },
  {
   "cell_type": "code",
   "execution_count": 8,
   "metadata": {},
   "outputs": [
    {
     "name": "stdout",
     "output_type": "stream",
     "text": [
      "Actual Length: 9659\n"
     ]
    }
   ],
   "source": [
    "reviews_max = {}\n",
    "for row in play_data[1:]:\n",
    "    title = row[0]\n",
    "    n_reviews = float(row[3])\n",
    "    if (title in reviews_max) and (reviews_max[title] < n_reviews):\n",
    "        reviews_max[title] = n_reviews\n",
    "    elif title not in reviews_max:\n",
    "        reviews_max[title] = n_reviews\n",
    "print('Actual Length:', len(reviews_max))\n"
   ]
  },
  {
   "cell_type": "code",
   "execution_count": 9,
   "metadata": {},
   "outputs": [
    {
     "name": "stdout",
     "output_type": "stream",
     "text": [
      "['Photo Editor & Candy Camera & Grid & ScrapBook', 'ART_AND_DESIGN', '4.1', '159', '19M', '10,000+', 'Free', '0', 'Everyone', 'Art & Design', 'January 7, 2018', '1.0.0', '4.0.3 and up']\n",
      "\n",
      "\n",
      "['U Launcher Lite – FREE Live Cool Themes, Hide Apps', 'ART_AND_DESIGN', '4.7', '87510', '8.7M', '5,000,000+', 'Free', '0', 'Everyone', 'Art & Design', 'August 1, 2018', '1.2.4', '4.0.3 and up']\n",
      "\n",
      "\n",
      "Number of rows: 9659\n",
      "Number of columns: 13\n"
     ]
    }
   ],
   "source": [
    "play_clean= []\n",
    "already_added = []\n",
    "\n",
    "for row in play_data[1:]:\n",
    "    title = row[0]\n",
    "    n_reviews = float(row[3])\n",
    "    \n",
    "    if (reviews_max[title] == n_reviews) and (title not in already_added):\n",
    "        play_clean.append(row)\n",
    "        already_added.append(title)\n",
    "\n",
    "explore_dataset(play_clean,0,2,True)\n",
    "\n",
    "\n"
   ]
  },
  {
   "cell_type": "markdown",
   "metadata": {},
   "source": [
    "### Removing non-English apps from our dataset\n",
    "\n",
    "Because our company intends to develop our applications for a primarily English-speaking audience, it is important to use only apps offered in English as the basis for our analysis. The app store data that we have includes several apps in other languages that offer litte insight into our target audience. We will remove non-English apps through the following steps:\n",
    "    \n",
    "    - Writing a function that analyzes strings to determine if those strings contain characters not used in the English language.\n",
    "        - This function will iterate over a string as its input, looping a check for characters with unicode ID greater than 127,\n",
    "            - 0-127 is the range of unicode ID recognized by ASCII as useful in the English language.\n",
    "        - The the characters in each string contain characters with greater unicode ID values, the row containing that string will retrun \"False\" as the app is not in English."
   ]
  },
  {
   "cell_type": "code",
   "execution_count": 10,
   "metadata": {},
   "outputs": [
    {
     "name": "stdout",
     "output_type": "stream",
     "text": [
      "True\n",
      "False\n",
      "True\n",
      "True\n"
     ]
    }
   ],
   "source": [
    "def is_english (string):\n",
    "    non_ascii = 0\n",
    "    \n",
    "    for character in string:\n",
    "        if ord(character) > 127:\n",
    "            non_ascii += 1\n",
    "        \n",
    "    if non_ascii > 3:\n",
    "        return False\n",
    "    else:\n",
    "        return True\n",
    "        \n",
    "print (is_english('Instagram'))\n",
    "print (is_english('爱奇艺PPS -《欢乐颂2》电视剧热播'))\n",
    "print (is_english('Docs To Go™ Free Office Suite'))\n",
    "print (is_english('Instachat 😜'))\n"
   ]
  },
  {
   "cell_type": "markdown",
   "metadata": {},
   "source": [
    "This function identifies apps as English or non-English, and can then be applied to the datasets to filter out non-English applications."
   ]
  },
  {
   "cell_type": "code",
   "execution_count": 11,
   "metadata": {},
   "outputs": [
    {
     "name": "stdout",
     "output_type": "stream",
     "text": [
      "['Photo Editor & Candy Camera & Grid & ScrapBook', 'ART_AND_DESIGN', '4.1', '159', '19M', '10,000+', 'Free', '0', 'Everyone', 'Art & Design', 'January 7, 2018', '1.0.0', '4.0.3 and up']\n",
      "\n",
      "\n",
      "['U Launcher Lite – FREE Live Cool Themes, Hide Apps', 'ART_AND_DESIGN', '4.7', '87510', '8.7M', '5,000,000+', 'Free', '0', 'Everyone', 'Art & Design', 'August 1, 2018', '1.2.4', '4.0.3 and up']\n",
      "\n",
      "\n",
      "['Sketch - Draw & Paint', 'ART_AND_DESIGN', '4.5', '215644', '25M', '50,000,000+', 'Free', '0', 'Teen', 'Art & Design', 'June 8, 2018', 'Varies with device', '4.2 and up']\n",
      "\n",
      "\n",
      "Number of rows: 9614\n",
      "Number of columns: 13\n",
      "None\n",
      "\n",
      "\n",
      "['284882215', 'Facebook', '389879808', 'USD', '0.0', '2974676', '212', '3.5', '3.5', '95.0', '4+', 'Social Networking', '37', '1', '29', '1']\n",
      "\n",
      "\n",
      "['389801252', 'Instagram', '113954816', 'USD', '0.0', '2161558', '1289', '4.5', '4.0', '10.23', '12+', 'Photo & Video', '37', '0', '29', '1']\n",
      "\n",
      "\n",
      "['529479190', 'Clash of Clans', '116476928', 'USD', '0.0', '2130805', '579', '4.5', '4.5', '9.24.12', '9+', 'Games', '38', '5', '18', '1']\n",
      "\n",
      "\n",
      "Number of rows: 6183\n",
      "Number of columns: 16\n",
      "None\n"
     ]
    }
   ],
   "source": [
    "play_in_english = []\n",
    "play_non_english = []\n",
    "\n",
    "for row in play_clean:\n",
    "    title = row[0]\n",
    "    if is_english(title):\n",
    "        play_in_english.append(row)\n",
    "    else:\n",
    "        play_non_english.append(row)\n",
    "\n",
    "ios_in_english = []\n",
    "ios_non_english = []\n",
    "\n",
    "for row in ios_data:\n",
    "    title = row[1]\n",
    "    if is_english(title):\n",
    "        ios_in_english.append(row)\n",
    "    else:\n",
    "        ios_non_english.append(row)\n",
    "\n",
    "print (explore_dataset(play_in_english,0,3,True))\n",
    "print ('\\n')\n",
    "print (explore_dataset(ios_in_english,0,3,True))"
   ]
  },
  {
   "cell_type": "markdown",
   "metadata": {},
   "source": [
    "### Identifying Free Applications\n",
    "Because we aim to develop free-to-download applications, it is necessary to draw conclusions from analysis of data about other free apps. To do this we must filter applications from our datasets that are not free through the following steps:\n",
    "\n",
    "1. Identify the column in each dataset that describes the purchase price of the application\n",
    "2. Determine which rows contain a price value that indicates a free-to-download application.\n",
    "3. Isolate those free apps in a list separate from the non-free apps"
   ]
  },
  {
   "cell_type": "code",
   "execution_count": 12,
   "metadata": {},
   "outputs": [
    {
     "name": "stdout",
     "output_type": "stream",
     "text": [
      "8863\n",
      "3222\n"
     ]
    }
   ],
   "source": [
    "play_free = []\n",
    "for row in play_in_english:\n",
    "    price = row[6]\n",
    "    if price == 'Free':\n",
    "        play_free.append(row)\n",
    "ios_free = []\n",
    "for row in ios_in_english:\n",
    "    price = float(row[4])\n",
    "    if price == 0.0:\n",
    "        ios_free.append(row)\n",
    "\n",
    "print(len(play_free))\n",
    "print(len(ios_free))"
   ]
  },
  {
   "cell_type": "markdown",
   "metadata": {},
   "source": [
    "Filtering these datasets by app price leaves us with 8863 Android apps and 3222 iOS apps, which is sufficient for our analysis."
   ]
  },
  {
   "cell_type": "markdown",
   "metadata": {},
   "source": [
    "### Determining which genres of apps are most popular\n",
    "\n",
    "Now that we've identified the free applications in our datasets, our goal is to identify the performance of different genres of applications by genre. \n",
    "\n",
    "To determine the specific applications that are popular, those applications must be popular in not the Google Play Store and App Store markets. We will begin this analysis with a frequency table to identify popular genres in each market."
   ]
  },
  {
   "cell_type": "code",
   "execution_count": 13,
   "metadata": {},
   "outputs": [],
   "source": [
    "def freq_table(dataset, index):\n",
    "    fq_table = {}\n",
    "    total = 0\n",
    "    for row in dataset:\n",
    "        total += 1\n",
    "        column = row[index]\n",
    "        if column in fq_table:\n",
    "            fq_table[column] += 1\n",
    "        else:\n",
    "            fq_table[column] = 1\n",
    "    percent_table = {}\n",
    "    for key in fq_table:\n",
    "        percentage = (fq_table[key]/total) * 100\n",
    "        percent_table[key] = percentage\n",
    "    return percent_table\n"
   ]
  },
  {
   "cell_type": "code",
   "execution_count": 14,
   "metadata": {},
   "outputs": [],
   "source": [
    "def display_table(dataset, index):\n",
    "    table = freq_table(dataset, index)\n",
    "    table_display = []\n",
    "    for key in table:\n",
    "        key_val_as_tuple = (table[key], key)\n",
    "        table_display.append(key_val_as_tuple)\n",
    "\n",
    "    table_sorted = sorted(table_display, reverse = True)\n",
    "    for entry in table_sorted:\n",
    "        print(entry[1], ':', entry[0])"
   ]
  },
  {
   "cell_type": "code",
   "execution_count": 15,
   "metadata": {},
   "outputs": [
    {
     "name": "stdout",
     "output_type": "stream",
     "text": [
      "iOS Popular Genres:\n",
      "Games : 58.16263190564867\n",
      "Entertainment : 7.883302296710118\n",
      "Photo & Video : 4.9658597144630665\n",
      "Education : 3.662321539416512\n",
      "Social Networking : 3.2898820608317814\n",
      "Shopping : 2.60707635009311\n",
      "Utilities : 2.5139664804469275\n",
      "Sports : 2.1415270018621975\n",
      "Music : 2.0484171322160147\n",
      "Health & Fitness : 2.0173805090006205\n",
      "Productivity : 1.7380509000620732\n",
      "Lifestyle : 1.5828677839851024\n",
      "News : 1.3345747982619491\n",
      "Travel : 1.2414649286157666\n",
      "Finance : 1.1173184357541899\n",
      "Weather : 0.8690254500310366\n",
      "Food & Drink : 0.8069522036002483\n",
      "Reference : 0.5586592178770949\n",
      "Business : 0.5276225946617008\n",
      "Book : 0.4345127250155183\n",
      "Navigation : 0.186219739292365\n",
      "Medical : 0.186219739292365\n",
      "Catalogs : 0.12414649286157665\n",
      "\n",
      "\n",
      "Android Popular Genres:\n",
      "Tools : 8.450863138892023\n",
      "Entertainment : 6.070179397495204\n",
      "Education : 5.348076272142616\n",
      "Business : 4.592124562789123\n",
      "Productivity : 3.8925871601038025\n",
      "Lifestyle : 3.8925871601038025\n",
      "Finance : 3.7007785174320205\n",
      "Medical : 3.5315355974275078\n",
      "Sports : 3.463838429425702\n",
      "Personalization : 3.317161232088458\n",
      "Communication : 3.2381812027530184\n",
      "Action : 3.102786866749408\n",
      "Health & Fitness : 3.0802211440821394\n",
      "Photography : 2.944826808078529\n",
      "News & Magazines : 2.798149610741284\n",
      "Social : 2.6627552747376737\n",
      "Travel & Local : 2.324269434728647\n",
      "Shopping : 2.245289405393208\n",
      "Books & Reference : 2.1437436533904997\n",
      "Simulation : 2.042197901387792\n",
      "Dating : 1.8616721200496444\n",
      "Arcade : 1.8503892587160102\n",
      "Video Players & Editors : 1.771409229380571\n",
      "Casual : 1.7601263680469368\n",
      "Maps & Navigation : 1.399074805370642\n",
      "Food & Drink : 1.241114746699763\n",
      "Puzzle : 1.128286133363421\n",
      "Racing : 0.9928917973598104\n",
      "Role Playing : 0.9364774906916393\n",
      "Libraries & Demo : 0.9364774906916393\n",
      "Auto & Vehicles : 0.9251946293580051\n",
      "Strategy : 0.9026289066907368\n",
      "House & Home : 0.8236488773552973\n",
      "Weather : 0.8010831546880289\n",
      "Events : 0.7108202640189552\n",
      "Adventure : 0.6769716800180525\n",
      "Comics : 0.6092745120162473\n",
      "Beauty : 0.5979916506826132\n",
      "Art & Design : 0.5979916506826132\n",
      "Parenting : 0.4964458986799052\n",
      "Card : 0.4513144533453684\n",
      "Casino : 0.42874873067809993\n",
      "Trivia : 0.4174658693444658\n",
      "Educational;Education : 0.3949001466771973\n",
      "Board : 0.38361728534356315\n",
      "Educational : 0.37233442400992894\n",
      "Education;Education : 0.33848584000902626\n",
      "Word : 0.25950581067358686\n",
      "Casual;Pretend Play : 0.2369400880063184\n",
      "Music : 0.20309150400541578\n",
      "Racing;Action & Adventure : 0.16924292000451313\n",
      "Puzzle;Brain Games : 0.16924292000451313\n",
      "Entertainment;Music & Video : 0.16924292000451313\n",
      "Casual;Brain Games : 0.1353943360036105\n",
      "Casual;Action & Adventure : 0.1353943360036105\n",
      "Arcade;Action & Adventure : 0.1241114746699763\n",
      "Action;Action & Adventure : 0.10154575200270789\n",
      "Educational;Pretend Play : 0.09026289066907367\n",
      "Simulation;Action & Adventure : 0.07898002933543948\n",
      "Parenting;Education : 0.07898002933543948\n",
      "Entertainment;Brain Games : 0.07898002933543948\n",
      "Board;Brain Games : 0.07898002933543948\n",
      "Parenting;Music & Video : 0.06769716800180525\n",
      "Educational;Brain Games : 0.06769716800180525\n",
      "Casual;Creativity : 0.06769716800180525\n",
      "Art & Design;Creativity : 0.06769716800180525\n",
      "Education;Pretend Play : 0.05641430666817105\n",
      "Role Playing;Pretend Play : 0.045131445334536835\n",
      "Education;Creativity : 0.045131445334536835\n",
      "Role Playing;Action & Adventure : 0.033848584000902626\n",
      "Puzzle;Action & Adventure : 0.033848584000902626\n",
      "Entertainment;Creativity : 0.033848584000902626\n",
      "Entertainment;Action & Adventure : 0.033848584000902626\n",
      "Educational;Creativity : 0.033848584000902626\n",
      "Educational;Action & Adventure : 0.033848584000902626\n",
      "Education;Music & Video : 0.033848584000902626\n",
      "Education;Brain Games : 0.033848584000902626\n",
      "Education;Action & Adventure : 0.033848584000902626\n",
      "Adventure;Action & Adventure : 0.033848584000902626\n",
      "Video Players & Editors;Music & Video : 0.022565722667268417\n",
      "Sports;Action & Adventure : 0.022565722667268417\n",
      "Simulation;Pretend Play : 0.022565722667268417\n",
      "Puzzle;Creativity : 0.022565722667268417\n",
      "Music;Music & Video : 0.022565722667268417\n",
      "Entertainment;Pretend Play : 0.022565722667268417\n",
      "Casual;Education : 0.022565722667268417\n",
      "Board;Action & Adventure : 0.022565722667268417\n",
      "Video Players & Editors;Creativity : 0.011282861333634209\n",
      "Trivia;Education : 0.011282861333634209\n",
      "Travel & Local;Action & Adventure : 0.011282861333634209\n",
      "Tools;Education : 0.011282861333634209\n",
      "Strategy;Education : 0.011282861333634209\n",
      "Strategy;Creativity : 0.011282861333634209\n",
      "Strategy;Action & Adventure : 0.011282861333634209\n",
      "Simulation;Education : 0.011282861333634209\n",
      "Role Playing;Brain Games : 0.011282861333634209\n",
      "Racing;Pretend Play : 0.011282861333634209\n",
      "Puzzle;Education : 0.011282861333634209\n",
      "Parenting;Brain Games : 0.011282861333634209\n",
      "Music & Audio;Music & Video : 0.011282861333634209\n",
      "Lifestyle;Pretend Play : 0.011282861333634209\n",
      "Lifestyle;Education : 0.011282861333634209\n",
      "Health & Fitness;Education : 0.011282861333634209\n",
      "Health & Fitness;Action & Adventure : 0.011282861333634209\n",
      "Entertainment;Education : 0.011282861333634209\n",
      "Communication;Creativity : 0.011282861333634209\n",
      "Comics;Creativity : 0.011282861333634209\n",
      "Casual;Music & Video : 0.011282861333634209\n",
      "Card;Action & Adventure : 0.011282861333634209\n",
      "Books & Reference;Education : 0.011282861333634209\n",
      "Art & Design;Pretend Play : 0.011282861333634209\n",
      "Art & Design;Action & Adventure : 0.011282861333634209\n",
      "Arcade;Pretend Play : 0.011282861333634209\n",
      "Adventure;Education : 0.011282861333634209\n",
      "\n",
      "\n",
      "Android Popular Categories:\n",
      "FAMILY : 18.898792733837304\n",
      "GAME : 9.725826469592688\n",
      "TOOLS : 8.462146000225657\n",
      "BUSINESS : 4.592124562789123\n",
      "LIFESTYLE : 3.9038700214374367\n",
      "PRODUCTIVITY : 3.8925871601038025\n",
      "FINANCE : 3.7007785174320205\n",
      "MEDICAL : 3.5315355974275078\n",
      "SPORTS : 3.396141261423897\n",
      "PERSONALIZATION : 3.317161232088458\n",
      "COMMUNICATION : 3.2381812027530184\n",
      "HEALTH_AND_FITNESS : 3.0802211440821394\n",
      "PHOTOGRAPHY : 2.944826808078529\n",
      "NEWS_AND_MAGAZINES : 2.798149610741284\n",
      "SOCIAL : 2.6627552747376737\n",
      "TRAVEL_AND_LOCAL : 2.335552296062281\n",
      "SHOPPING : 2.245289405393208\n",
      "BOOKS_AND_REFERENCE : 2.1437436533904997\n",
      "DATING : 1.8616721200496444\n",
      "VIDEO_PLAYERS : 1.7939749520478394\n",
      "MAPS_AND_NAVIGATION : 1.399074805370642\n",
      "FOOD_AND_DRINK : 1.241114746699763\n",
      "EDUCATION : 1.1621347173643235\n",
      "ENTERTAINMENT : 0.9590432133589079\n",
      "LIBRARIES_AND_DEMO : 0.9364774906916393\n",
      "AUTO_AND_VEHICLES : 0.9251946293580051\n",
      "HOUSE_AND_HOME : 0.8236488773552973\n",
      "WEATHER : 0.8010831546880289\n",
      "EVENTS : 0.7108202640189552\n",
      "PARENTING : 0.6544059573507841\n",
      "ART_AND_DESIGN : 0.6431230960171499\n",
      "COMICS : 0.6205573733498815\n",
      "BEAUTY : 0.5979916506826132\n"
     ]
    }
   ],
   "source": [
    "print ('iOS Popular Genres:')\n",
    "display_table(ios_free, 11)\n",
    "print('\\n')\n",
    "print('Android Popular Genres:')\n",
    "display_table(play_free, 9)\n",
    "print ('\\n')\n",
    "print ('Android Popular Categories:')\n",
    "display_table(play_free, 1)"
   ]
  },
  {
   "cell_type": "markdown",
   "metadata": {},
   "source": [
    "These frequency tables above provide the following insights:\n",
    "\n",
    "***iOS App Store** Free English Apps:*\n",
    " \n",
    "    -Games dominate the App Store, with over half of free English apps falling within this genre.\n",
    "    \n",
    "    -There is a stark drop off in frequency for every genre after \"Games,\"\n",
    "    \n",
    "    -Apps that serve to entertain (Games, Social Networking, Sports, Music,) appear to be more popular than applications that serve a practical purpose (Productivity, Lifestyle, News)\n",
    "    \n",
    "        -Education breaks this trend, likely due to the popularity of education-oriented apps among student populations.\n",
    "        \n",
    "    -By the observations made, I would suggest an entertainment app, though a game may face considerable competition and may not perform as well due to dilution of the market.\n",
    "    \n",
    "        -This would depend on the user base of apps in these genres, as there are staggeringly more games, but that does not necessarily mean that all apps in this genre attract equally large audiences.\n",
    "        \n",
    "\n",
    "***Android** free English Apps:*\n",
    "\n",
    "    -The most popular genres are \"Tools\" \"Entertainment\" and \"Education\"\n",
    "    \n",
    "    -Top Categories are \"Family\" and Game\"\n",
    "    \n",
    "    -The Google Play Store uses far more specificity when sorting apps by genre and category, which may cause some apps identified as one genre in the iOS app Store to be sorted into a similar but different genre.\n",
    "    \n",
    "    -Apps of the \"Tools\" genre appear to be highly common, followed by the \"Entertainment\" genre; however, apps categorized as \"Family\" and \"Game\" are the most common.\n",
    "    \n",
    "    - These tables suggest that the company should develop an app that either entertains its user, or it serves a functional purpose to the business of its user.\n",
    "\n",
    "**The information on these tables is limited to the frequency of apps within these genres, but does not clarify the actual popularity of these apps with users**\n",
    "\n",
    "In order to find out more about the actual popularity of these genres of apps, we will determine the average active users or installs for each genre.\n",
    "\n",
    "In the iOS App Store, we can look to the 'rating_count_tot' column as a proxy for number of downloads, and for the Google Play Store, we can look to the 'Installs' column.\n",
    "\n",
    "The averages will be found through the following steps:\n",
    "    \n",
    "    -Isolate the apps of each genre\n",
    "    -Find the sum of ratings or installs for all apps in each genre\n",
    "    -Divide this number by the number of applications in each genre\n",
    "    "
   ]
  },
  {
   "cell_type": "code",
   "execution_count": 16,
   "metadata": {},
   "outputs": [],
   "source": [
    "genre_table = freq_table(ios_free,11)"
   ]
  },
  {
   "cell_type": "code",
   "execution_count": 19,
   "metadata": {},
   "outputs": [
    {
     "name": "stdout",
     "output_type": "stream",
     "text": [
      "Social Networking : 71548.34905660378\n",
      "Photo & Video : 28441.54375\n",
      "Games : 22788.6696905016\n",
      "Music : 57326.530303030304\n",
      "Reference : 74942.11111111111\n",
      "Health & Fitness : 23298.015384615384\n",
      "Weather : 52279.892857142855\n",
      "Utilities : 18684.456790123455\n",
      "Travel : 28243.8\n",
      "Shopping : 26919.690476190477\n",
      "News : 21248.023255813954\n",
      "Navigation : 86090.33333333333\n",
      "Lifestyle : 16485.764705882353\n",
      "Entertainment : 14029.830708661417\n",
      "Food & Drink : 33333.92307692308\n",
      "Sports : 23008.898550724636\n",
      "Book : 39758.5\n",
      "Finance : 31467.944444444445\n",
      "Education : 7003.983050847458\n",
      "Productivity : 21028.410714285714\n",
      "Business : 7491.117647058823\n",
      "Catalogs : 4004.0\n",
      "Medical : 612.0\n"
     ]
    }
   ],
   "source": [
    "genres_ios = freq_table(ios_free,11)\n",
    "    \n",
    "for genre in genres_ios:\n",
    "    total = 0\n",
    "    len_genre = 0\n",
    "    for app in ios_free:\n",
    "        genre_app = app[-5]\n",
    "        if genre_app == genre:            \n",
    "            n_ratings = float(app[5])\n",
    "            total += n_ratings\n",
    "            len_genre += 1\n",
    "            \n",
    "    avg_rating = total/len_genre\n",
    "    genres_ios[genre]=avg_rating\n",
    "    print (genre,':',avg_rating)"
   ]
  },
  {
   "cell_type": "markdown",
   "metadata": {},
   "source": [
    "This table of averages gives us a more concise view of the average number of active users (represented by number of reviews) per app in each genre. We see the highest number of average users in the \"Navigation\" genre, followed then by \"Reference,\" and then \"Social Networking.\" These Averages give us a better idea of the popularity of apps in these genres.\n",
    "\n",
    "Refering back to the frequency table of genres in the App Store, we can see that these three genres represent less than a combined 20 percent of apps in the App Store.\n",
    "\n",
    "From this observation, it appears that social networking apps are a populare enough genre in the App Store while still not being too diluted in the market, and commands a relatively high per app user base. \n",
    "\n",
    "**It is my recommendation that the company pursue development of a social networking application.**"
   ]
  },
  {
   "cell_type": "code",
   "execution_count": 28,
   "metadata": {},
   "outputs": [
    {
     "name": "stdout",
     "output_type": "stream",
     "text": [
      "ART_AND_DESIGN : 1986335.0877192982\n",
      "AUTO_AND_VEHICLES : 647317.8170731707\n",
      "BEAUTY : 513151.88679245283\n",
      "BOOKS_AND_REFERENCE : 8767811.894736841\n",
      "BUSINESS : 1712290.1474201474\n",
      "COMICS : 817657.2727272727\n",
      "COMMUNICATION : 38456119.167247385\n",
      "DATING : 854028.8303030303\n",
      "EDUCATION : 1833495.145631068\n",
      "ENTERTAINMENT : 11640705.88235294\n",
      "EVENTS : 253542.22222222222\n",
      "FINANCE : 1387692.475609756\n",
      "FOOD_AND_DRINK : 1924897.7363636363\n",
      "HEALTH_AND_FITNESS : 4188821.9853479853\n",
      "HOUSE_AND_HOME : 1331540.5616438356\n",
      "LIBRARIES_AND_DEMO : 638503.734939759\n",
      "LIFESTYLE : 1437816.2687861272\n",
      "GAME : 15588015.603248259\n",
      "FAMILY : 3697848.1731343283\n",
      "MEDICAL : 120550.61980830671\n",
      "SOCIAL : 23253652.127118643\n",
      "SHOPPING : 7036877.311557789\n",
      "PHOTOGRAPHY : 17840110.40229885\n",
      "SPORTS : 3638640.1428571427\n",
      "TRAVEL_AND_LOCAL : 13984077.710144928\n",
      "TOOLS : 10801391.298666667\n",
      "PERSONALIZATION : 5201482.6122448975\n",
      "PRODUCTIVITY : 16787331.344927534\n",
      "PARENTING : 542603.6206896552\n",
      "WEATHER : 5074486.197183099\n",
      "VIDEO_PLAYERS : 24727872.452830188\n",
      "NEWS_AND_MAGAZINES : 9549178.467741935\n",
      "MAPS_AND_NAVIGATION : 4056941.7741935486\n"
     ]
    }
   ],
   "source": [
    "cat_table = freq_table(play_free,1)\n",
    "\n",
    "for category in cat_table:\n",
    "    total = 0\n",
    "    len_cat = 0\n",
    "    for row in play_free:\n",
    "        category_app = row[1]\n",
    "        if category_app == category:\n",
    "            n_installs = row[5]\n",
    "            n_installs = n_installs.replace('+','')\n",
    "            n_installs = n_installs.replace(',','')\n",
    "            n_installs = float(n_installs)\n",
    "            total += n_installs\n",
    "            len_cat += 1\n",
    "    avg_installs = total/len_cat\n",
    "    print(category,':',avg_installs)\n"
   ]
  },
  {
   "cell_type": "markdown",
   "metadata": {},
   "source": [
    "The \"Communication\" genre dominates the list of average number of installs per app, with \"Social\" boasting a relatively large average installs per app. If we compare this to the average number of reviews per genre in the App Store we find that there is no communication app, but that \"Social Networking\"  has one of the highest average users per app. \n",
    "\n"
   ]
  }
 ],
 "metadata": {
  "kernelspec": {
   "display_name": "Python 3",
   "language": "python",
   "name": "python3"
  },
  "language_info": {
   "codemirror_mode": {
    "name": "ipython",
    "version": 3
   },
   "file_extension": ".py",
   "mimetype": "text/x-python",
   "name": "python",
   "nbconvert_exporter": "python",
   "pygments_lexer": "ipython3",
   "version": "3.8.8"
  }
 },
 "nbformat": 4,
 "nbformat_minor": 2
}
